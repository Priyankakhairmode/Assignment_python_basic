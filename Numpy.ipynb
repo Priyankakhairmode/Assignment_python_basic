{
  "nbformat": 4,
  "nbformat_minor": 0,
  "metadata": {
    "colab": {
      "provenance": []
    },
    "kernelspec": {
      "name": "python3",
      "display_name": "Python 3"
    },
    "language_info": {
      "name": "python"
    }
  },
  "cells": [
    {
      "cell_type": "code",
      "execution_count": null,
      "metadata": {
        "id": "Q4MeMvh0jSLb"
      },
      "outputs": [],
      "source": []
    },
    {
      "cell_type": "markdown",
      "source": [],
      "metadata": {
        "id": "Bf3qlEZLF-QG"
      }
    },
    {
      "cell_type": "markdown",
      "source": [],
      "metadata": {
        "id": "peisI43zF-3M"
      }
    },
    {
      "cell_type": "markdown",
      "source": [
        "1. Explain the purpose and advantages of NumPy in scientific computing and data analysis. How does it enhance Python's capabilities for numerical operations?\n",
        "\n",
        "  Ans: Numerical python is designed specifically for scientific computation and data analysis. it provides efficient array operations which are essential for hadling large dataset, performing complex mathematical computation and enhancing the performance of python in scientific applications.\n",
        "  it enhances capabilities of python in following ways:\n",
        "  1. multidimensional array- numpy provides ndarray data structures which allows the creation of high high performance multi dimensional arrays. unlike python list(heterogeneous data type) numpy array have a fixed size and hold element of same data type, making them to process efficiently and faster.\n",
        "  2.Element wise operation and broad casting - coplex nested loops not required as operations are automatically applied acress element in an array without the requiremnt of the loop. broadcasting allows operations on array\n",
        "\n",
        "\n",
        "\n",
        "\n",
        "\n",
        "\n",
        "2. Compare and contrast np.mean() and np.average() functions in NumPy. When would you use one over the\n",
        "other?\n",
        "Ans: np.mean() function is used when we will have to calculate arithmetic mean of the ie average of the element along a specified axis or of the entire array. it does not support weight of the array\n",
        "np. average() function is used when the weighted average if weights are provided. otherwise it will behave like np.mean() function. it supppors weights so its useful when if you want to give different element varying level of importance.\n",
        "\n",
        "\n",
        "3. Describe the methods for reversing a NumPy array along different axes. Provide examples for 1D and 2D\n",
        "Ans: to reverse a numpy arrays along different axes  for 1D array slicing with the [::-1] is used.\n",
        "np.flip() function to reverse 2D array along specific axes is used.\n",
        "\n",
        "\n",
        "4. How can you determine the data type of elements in a NumPy array? Discuss the importance of data types in memory management and performance.\n",
        "the .dtype attribute reveals the data type which could be an integer type, float type or others like complex bool or custom data types.\n",
        "each data type has a specific size. the int size of diff numbers take different bytes. so if we use small int number it will occupy less memory. this is particularly important when we work with large array as it can reduce memory usage significantly making it possible to handle large dataset within memory constarints. smaller data types require less computational overheads that are more efficient than python loops.choosing right data type improves computational speed.\n",
        "\n",
        "\n",
        "5. Define ndarrays in NumPy and explain their key features. How do they differ from standard Python lists?\n",
        "ndarray is powerful flexible and efficient  multi dimensional arrays data structure. these array generalize 1 dimensional and 2 dimensional arrays into higher dimensional making them highly versatile for handling complex dataset.\n",
        "\n",
        "python list:\n",
        "1D structure(nested for multidimensions)  heterogeheous data type\n",
        "less efficient as element are reference to memory locations.\n",
        "slower requiring loops for element wise operations.\n",
        "basic slicing and indexing no broadcasting\n",
        "\n",
        "Numpy ndarray:\n",
        "multi dimensional homogeneous data type.\n",
        "more memory efficient stored in continous blocks\n",
        "much faster for large data types\n",
        "slicing indexing and broadcasting\n",
        "\n",
        "6. Analyze the performance benefits of NumPy arrays over Python lists for large-scale numerical operations.\n",
        "Ans: numpy array is used when you need to work with large numerical datasets and needing fast computation and efficient memory usage, especially for scientific and mathematical tasks.\n",
        "stores homogeneous data types, this allows for more eficient memory usage and faster computation.\n",
        "numpy array provide a wide array for of mathematical and statistical functions, optimized for fast computation.\n",
        "provide more advanced slicing such as slicing multi dimensional arrays and support boolean indexing and masking which is powerful for data selection.\n",
        "memory efficient since it stores data in contiguous blocks\n",
        "supports multi dimensional array which make it very flexible for scientific computing\n",
        "support elementwise operation directly eg. addition subtraction multiplication, thats the reason it is convenient for data computation.\n",
        "much faster for large dataset and mathematical operation.\n",
        "\n",
        "\n",
        "7. Compare vstack() and hstack() functions in NumPy. Provide examples demonstrating their usage and\n",
        "output.\n",
        "vstack() the v stack function stacks array in vertical sequence (row wise)\n",
        "syntax is numpy.vstack((array1,array2,...))\n",
        "import numpy as np\n",
        "a=np.array([1,2])\n",
        "b=np.array([3,4])\n",
        "result=np.vstack((a,b))\n",
        "print result\n",
        "[[1 2]\n",
        "[3 4]]\n",
        "\n",
        "hstack() vstack function joins array along a new axis wich can be specified.\n",
        "in this we have to specify axis to stack along which add an additional dimension to an array\n",
        "\n",
        "\n",
        "8. Explain the differences between fliplr() and flipud() methods in NumPy, including their effects on various array dimensions.\n",
        "Ans: flipplr() function flips an array horizontally or along left right axis. it only works for 2D arrays or higher and reverses the order of column in each row does not allow to flip along any other axis but horizontal\n",
        "flipud() function flips an array along the vertical axis, it reverses the order of the rows\n",
        "\n",
        "\n",
        "9. Discuss the functionality of the array_split() method in NumPy. How does it handle uneven splits?\n",
        "Ans: array_split() method is used to split an array into multiple subarray. number of parts can be specified while splitting. it handle caseswhere an array can not be evenly divided into the specified number of subarrays. if attays can not be divided equally then it will crate sun arrays of slightly different size with the earlier sub arrays having one extra element.\n",
        "\n",
        "10. Explain the concepts of vectorization and broadcasting in NumPy. How do they contribute to efficient array operations?\n",
        "Ans:\n",
        "vectorization refers to the process of applying operations over the entire array(vector) at once rather than looping over individual element. vectorised\n",
        "operations are very efficient as compare to python for loops.\n",
        "the vectorized code is simpler and runs faster.\n",
        "broadcasting is a method thst allow numpy to perform array of different shape by stretching the smaller array of different shapesby stretching the smaller array. along certail axis to make their shape compatible. broadcasting allows element wise operation between arrays of different shapes without creating additional copies of data.\n"
      ],
      "metadata": {
        "id": "HCBzlcWWjXad"
      }
    },
    {
      "cell_type": "code",
      "source": [
        "# Create a 3x3 NumPy array with random integers between 1 and 100. Then, interchange its rows and columns.\n",
        "\n",
        "import numpy as np\n",
        "array_1=np.random.randint(1,100,(3,3))\n",
        "# Create a 3x3 NumPy array with random integers between 1 and 100. Then, interchange its rows and columns.\n",
        "\n",
        "import numpy as np\n",
        "array_1=np.random.randint(1,100,(3,3))\n",
        "print(array_1)\n",
        "array_2=np.transpose(array_1)\n",
        "print(array_2)"
      ],
      "metadata": {
        "colab": {
          "base_uri": "https://localhost:8080/",
          "height": 0
        },
        "id": "wubZu_baSmSE",
        "outputId": "0efe82e8-b4a6-41b0-943f-d5afae068c20"
      },
      "execution_count": 6,
      "outputs": [
        {
          "output_type": "stream",
          "name": "stdout",
          "text": [
            "[[ 7 88 31]\n",
            " [66 34  5]\n",
            " [10  9 69]]\n",
            "[[ 7 66 10]\n",
            " [88 34  9]\n",
            " [31  5 69]]\n"
          ]
        }
      ]
    },
    {
      "cell_type": "markdown",
      "source": [],
      "metadata": {
        "id": "X_Zurcv4kLoS"
      }
    },
    {
      "cell_type": "code",
      "source": [
        "# Generate a 1D NumPy array with 10 elements. Reshape it into a 2x5 array, then into a 5x2 array.\n",
        "import numpy as np\n",
        "array_1=np.arange(10)\n",
        "print(array_1)\n",
        "array_2=array_1.reshape(2,5)\n",
        "print(array_2)\n",
        "array_3=array_2.reshape(5,2)\n",
        "print(array_3)"
      ],
      "metadata": {
        "colab": {
          "base_uri": "https://localhost:8080/"
        },
        "id": "Bgxjk--IUagR",
        "outputId": "c1a412a7-37d3-47a0-be10-be870cb82199"
      },
      "execution_count": 9,
      "outputs": [
        {
          "output_type": "stream",
          "name": "stdout",
          "text": [
            "[0 1 2 3 4 5 6 7 8 9]\n",
            "[[0 1 2 3 4]\n",
            " [5 6 7 8 9]]\n",
            "[[0 1]\n",
            " [2 3]\n",
            " [4 5]\n",
            " [6 7]\n",
            " [8 9]]\n"
          ]
        }
      ]
    },
    {
      "cell_type": "code",
      "source": [
        "#Create a 4x4 NumPy array with random float values. Add a border of zeros around it, resulting in a 6x6 array.\n",
        "import numpy as np\n",
        "array_1=np.random.rand(4,4)\n",
        "print(array_1)\n",
        "array_2=np.pad(array_1,pad_width=1,mode='constant',constant_values=0)\n",
        "print(array_2)\n",
        "\n",
        "\n"
      ],
      "metadata": {
        "colab": {
          "base_uri": "https://localhost:8080/"
        },
        "id": "0xkcM4ghUbOY",
        "outputId": "dcb581dc-5a4f-4991-e9b9-d65faf0e2b63"
      },
      "execution_count": 10,
      "outputs": [
        {
          "output_type": "stream",
          "name": "stdout",
          "text": [
            "[[0.72470024 0.05924145 0.29147944 0.94025219]\n",
            " [0.66158722 0.61976177 0.1888786  0.04114923]\n",
            " [0.04848935 0.85285028 0.4522678  0.07168414]\n",
            " [0.49845595 0.72415739 0.97418956 0.80463365]]\n",
            "[[0.         0.         0.         0.         0.         0.        ]\n",
            " [0.         0.72470024 0.05924145 0.29147944 0.94025219 0.        ]\n",
            " [0.         0.66158722 0.61976177 0.1888786  0.04114923 0.        ]\n",
            " [0.         0.04848935 0.85285028 0.4522678  0.07168414 0.        ]\n",
            " [0.         0.49845595 0.72415739 0.97418956 0.80463365 0.        ]\n",
            " [0.         0.         0.         0.         0.         0.        ]]\n"
          ]
        }
      ]
    },
    {
      "cell_type": "code",
      "source": [
        "# Using NumPy, create an array of integers from 10 to 60 with a step of 5.\n",
        "import numpy as np\n",
        "array_1=np,np.arange(10,60,5)\n",
        "print (array_1)"
      ],
      "metadata": {
        "colab": {
          "base_uri": "https://localhost:8080/"
        },
        "id": "sB5QxIBJUbUg",
        "outputId": "fc361037-c3b3-4e77-b667-3c56375bcff1"
      },
      "execution_count": 11,
      "outputs": [
        {
          "output_type": "stream",
          "name": "stdout",
          "text": [
            "(<module 'numpy' from '/usr/local/lib/python3.10/dist-packages/numpy/__init__.py'>, array([10, 15, 20, 25, 30, 35, 40, 45, 50, 55]))\n"
          ]
        }
      ]
    },
    {
      "cell_type": "code",
      "source": [
        "# Create a NumPy array of strings ['python', 'numpy', 'pandas']. Apply different case transformations\n",
        "#(uppercase, lowercase, title case, etc.) to each element.\n",
        "import numpy as np\n",
        "array_1=np.array(['python','numpy','pandas'])\n",
        "print(array_1)\n",
        "array_2=np.char.upper(array_1)\n",
        "print(array_2)\n",
        "array_3=np.char.lower(array_1)\n",
        "print(array_3)\n",
        "array_4=np.char.title(array_1)\n",
        "print(array_4)\n",
        "\n"
      ],
      "metadata": {
        "colab": {
          "base_uri": "https://localhost:8080/"
        },
        "id": "p-rQMFKJUbZy",
        "outputId": "6e3e2bd1-221c-4280-ea7c-6c15b64f0415"
      },
      "execution_count": 14,
      "outputs": [
        {
          "output_type": "stream",
          "name": "stdout",
          "text": [
            "['python' 'numpy' 'pandas']\n",
            "['PYTHON' 'NUMPY' 'PANDAS']\n",
            "['python' 'numpy' 'pandas']\n",
            "['Python' 'Numpy' 'Pandas']\n"
          ]
        }
      ]
    },
    {
      "cell_type": "code",
      "source": [
        "#Generate a NumPy array of words. Insert a space between each character of every word in the array.\n",
        "import numpy as np\n",
        "array_1=np.array(['python','numpy','pandas'])\n",
        "print(array_1)\n",
        "array_2=np.char.join('',array_1)\n",
        "print(array_2)\n",
        ""
      ],
      "metadata": {
        "colab": {
          "base_uri": "https://localhost:8080/"
        },
        "id": "1U7C0ZhlZXlH",
        "outputId": "3411dace-b38d-4d67-860d-96ede27ec235"
      },
      "execution_count": 16,
      "outputs": [
        {
          "output_type": "stream",
          "name": "stdout",
          "text": [
            "['python' 'numpy' 'pandas']\n",
            "['python' 'numpy' 'pandas']\n"
          ]
        }
      ]
    },
    {
      "cell_type": "code",
      "source": [
        "#Create two 2D NumPy arrays and perform element-wise addition, subtraction, multiplication, and division.\n",
        "import numpy as np\n",
        "array_1=np.array([1,2,3,4])\n",
        "print(array_1)\n",
        "array_2=np.array([5,6,7,8])\n",
        "print(array_2)\n",
        "array_3=array_1+array_2\n",
        "print(array_3)\n",
        "array_4=array_2-array_1\n",
        "print(array_4)\n",
        "array_5=array_2*array_1\n",
        "print(array_5)\n",
        "array_6=array_2/array_1\n",
        "print(array_6)"
      ],
      "metadata": {
        "colab": {
          "base_uri": "https://localhost:8080/"
        },
        "id": "R1aaRJXTUbgX",
        "outputId": "67029e62-72a4-4595-b29d-55d2768eae8a"
      },
      "execution_count": 30,
      "outputs": [
        {
          "output_type": "stream",
          "name": "stdout",
          "text": [
            "[1 2 3 4]\n",
            "[5 6 7 8]\n",
            "[ 6  8 10 12]\n",
            "[4 4 4 4]\n",
            "[ 5 12 21 32]\n",
            "[5.         3.         2.33333333 2.        ]\n"
          ]
        }
      ]
    },
    {
      "cell_type": "code",
      "source": [
        "#Use NumPy to create a 5x5 identity matrix, then extract its diagonal elements.\n",
        "import numpy as np\n",
        "array_1=np.eye(5)\n",
        "print(array_1)\n",
        "array_2=np.diag(array_1)\n",
        "print(array_2)"
      ],
      "metadata": {
        "colab": {
          "base_uri": "https://localhost:8080/"
        },
        "id": "lw6G1f3dlmxZ",
        "outputId": "bcd6d938-7bb8-4c92-f7f5-ca88d97b14c4"
      },
      "execution_count": 31,
      "outputs": [
        {
          "output_type": "stream",
          "name": "stdout",
          "text": [
            "[[1. 0. 0. 0. 0.]\n",
            " [0. 1. 0. 0. 0.]\n",
            " [0. 0. 1. 0. 0.]\n",
            " [0. 0. 0. 1. 0.]\n",
            " [0. 0. 0. 0. 1.]]\n",
            "[1. 1. 1. 1. 1.]\n"
          ]
        }
      ]
    },
    {
      "cell_type": "code",
      "source": [
        "# Generate a NumPy array of 100 random integers between 0 and 1000. Find and display all prime numbers in\n",
        "#this array.\n",
        "import numpy as np\n",
        "array_1=np.random.randint(0,1000,100)\n",
        "print(array_1)\n",
        "def is_prime(num):\n",
        "  if num<2:return False\n",
        "  for i in range(2,int(num**0.5)+1):\n",
        "    if num%i==0:\n",
        "      return False\n",
        "      return true\n",
        "      array_2=[num for num in array_1 if i is prime]\n",
        "      print(array_2)\n",
        "\n",
        "\n",
        "\n",
        "\n"
      ],
      "metadata": {
        "colab": {
          "base_uri": "https://localhost:8080/"
        },
        "id": "vsq-aBsqnUc4",
        "outputId": "a8b1d948-2c51-41d1-ed25-63d94273ebfe"
      },
      "execution_count": 36,
      "outputs": [
        {
          "output_type": "stream",
          "name": "stdout",
          "text": [
            "[572 258 220 327 293 796 690 677 231 319 361 871 592 979 283 846 930 571\n",
            "  62 896 649 805 266 466 238 598 556 113 312 619 743 180 427 716 515 700\n",
            " 188 184 622 105 554 522 324 732 727 347 293 599 612 691 831 105 245 718\n",
            " 377 429 500 237 483 302 987 629 229 389 588 574  70 353 761 854 172 558\n",
            " 989 591 273 644 192   0 705 784 968 886 404 449 813 421 147 379  36 174\n",
            " 860 205 747  29  35 304 983 131 937 365]\n"
          ]
        }
      ]
    },
    {
      "cell_type": "code",
      "source": [
        "#Create a NumPy array representing daily temperatures for a month. Calculate and display the weekly\n",
        "#averages.\n",
        "import numpy as np\n",
        "temp=np.random.uniform(20,30,40)\n",
        "print(temp)\n",
        "weekly_avg=np.mean(temp.reshape(-1,10),axis=1)\n",
        "print(weekly_avg)\n",
        "\n"
      ],
      "metadata": {
        "colab": {
          "base_uri": "https://localhost:8080/"
        },
        "id": "xHvcSwQkoZ0M",
        "outputId": "bcf05c27-d846-48c7-f8c3-40fcf139e1a9"
      },
      "execution_count": 40,
      "outputs": [
        {
          "output_type": "stream",
          "name": "stdout",
          "text": [
            "[21.98473038 24.79300194 26.3774638  21.56893125 27.85241395 29.60444908\n",
            " 27.25717465 25.6710283  26.98220604 26.33659728 26.34038728 26.78180174\n",
            " 24.06572265 27.78464918 23.49784157 28.42322603 21.09984971 20.8527804\n",
            " 21.40421767 28.87034086 23.19441052 27.01094923 28.2485371  23.04930422\n",
            " 21.43246164 28.41174836 21.89022726 23.6644481  28.34718303 25.32798306\n",
            " 24.03936955 21.5938263  22.88310453 28.20373316 23.29942963 26.49064636\n",
            " 22.95773824 27.81022959 27.87007231 27.58751203]\n",
            "[25.84279967 24.91208171 25.05772525 25.27356617]\n"
          ]
        }
      ]
    }
  ]
}