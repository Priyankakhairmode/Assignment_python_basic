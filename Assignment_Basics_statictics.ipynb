{
  "nbformat": 4,
  "nbformat_minor": 0,
  "metadata": {
    "colab": {
      "provenance": []
    },
    "kernelspec": {
      "name": "python3",
      "display_name": "Python 3"
    },
    "language_info": {
      "name": "python"
    }
  },
  "cells": [
    {
      "cell_type": "code",
      "execution_count": null,
      "metadata": {
        "id": "yM1sxXqrcDem"
      },
      "outputs": [],
      "source": [
        "###Assignment_Basics_statictics\n"
      ]
    },
    {
      "cell_type": "markdown",
      "source": [
        "1. Explain the different types of data (qualitative and quantitative) and provide examples of each. Discuss\n",
        "nominal, ordinal, interval, and ratio scales\n",
        "-\n",
        "Different types of data:\n",
        "**Quanlitative data:** It is also called categorical data, attribute data, non-numerical data\n",
        "Nominal data- this data is meant for making classification. eg. marital status, gender, blood group,colour, religion.\n",
        "\n",
        "ordinal data- this data can be ranked but difference between two ordinal values can not be quanitified. we can only examine if ordinal scale datum is less than or greater than another value\n",
        "\n",
        "**quantitative data:** it is also called numerical data\n",
        "Interval data- such data is organized with constant scale having no natural zzero.eg temperature and year. 0degree or 0 years are arbitary. we can find out difference which is like 30 years - 20 years= 10 years but ratios of these two doesnt make any sense.\n",
        "\n",
        "Ratio data- such data is organized with constant scale with defined zero. height weight length age. ratio of 2m to 5m or 5m -2m ie difference  make sense."
      ],
      "metadata": {
        "id": "PNKGOuINcRLS"
      }
    },
    {
      "cell_type": "markdown",
      "source": [],
      "metadata": {
        "id": "kXHENpfoY2Ai"
      }
    },
    {
      "cell_type": "markdown",
      "source": [
        "2.What are the measures of central tendency, and when should you use each? Discuss the mean, median,\n",
        "and mode with examples and situations where each is appropriate.\n",
        "Measure of central tendency are as below\n",
        "1. Mean\n",
        "2.mode\n",
        "3. median\n",
        "\n",
        "Mean- The mean is average of observations. ie\n",
        "sum of observation / no of observation. it is highly affected by extreme outlier. it is used when data is continuous and normally distributed and there are no extreme values(outlier).\n",
        "eg, avg height of students in class\n",
        "\n",
        "Median- The median is the middle value of a dataset when the data is ordered in acending or descending order.if the dataset has even no of observations then the median will be average of two middle values.\n",
        "eg. the median house price in the neighbourhood.\n",
        "the typicat salary of an amployee where range can vary extremely(extreme outlier).\n",
        "the median would be best measure to calculate central tendency as it is not affected by extreme outlier.\n",
        "\n",
        "mode- the mode is that value in the data set which appears most frequently. there can be more than one mode (ie multimodal)\n",
        "It is best used for categorical and discrete data with small no. of unique values. it s useful for identifying the most common category or value.\n",
        "eg most popular colour of car.\n",
        "most common blood group type in a group\n"
      ],
      "metadata": {
        "id": "NlUW1LIaZY2v"
      }
    },
    {
      "cell_type": "markdown",
      "source": [
        "3. Explain the concept of dispersion. How do variance and standard deviation measure the spread of data?\n",
        "- The purpose of meausre of measure of dispersion is to find out how spred out the data set in a data or data values on a number line.\n",
        "the dispersion is called symmetrical distribution when the Mean Median and mode are same\n",
        "the dispersion is called asymmetrical distribution when the Mean Median and mode are not same\n",
        "the mean median can be same for a particular data set but their spread can be different.\n",
        "variance\n",
        "sample variance\n",
        "in sample variance\n",
        "mean is calculated\n",
        "each variable- mean is calculated\n",
        "square of that diff is calculated\n",
        "and then divided by no of observations\n",
        "\n",
        "Sample variance S^2=summ        (X-Xmean)^2\n",
        "                                  ____________\n",
        "                                     n-1 (reduced to make corrections)\n",
        "\n",
        "Population variance 6^2=summ        (X-Xmean)^2\n",
        "                                  ____________\n",
        "                                       N\n",
        "\n",
        "standard deviation\n",
        "root of variance is standard deviation\n",
        "\n",
        "Sample standard deviation S   = Sqrt [summ(X-Xmean)^2]\n",
        "                                       ____________\n",
        "                                         n-1 (reduced to make corrections)\n",
        "\n",
        "\n",
        "Population standard deviation S   = Sqrt [summ(X-Xmean)^2]\n",
        "                                       ____________\n",
        "                                        N\n",
        "\n",
        "nor the variance neither standard deviation is robust to the extreme outlier."
      ],
      "metadata": {
        "id": "n3IrwwXfZlVM"
      }
    },
    {
      "cell_type": "markdown",
      "source": [
        "4. What is a box plot, and what can it tell you about the distribution of data?\n",
        "-Quanrtiles(Box plot)-Quartiles are values that divides list of numbers into quarters\n",
        "The inter quartile range is the diff between 1st(25%) and 3rd quartile(75%) percentile of data.it is robust to outlier coz 50% data get affected by outlier.\n",
        "Interquartile range= Upper quartile - lower qquartile\n",
        "=Q3-Q1\n",
        "it is more useful meausre than range as it describes middle50% of the data value and this less affected by outlier.\n",
        "put numbers in order, divide numbers into 4 rqual parts-\n",
        "Q0\n",
        "Q1\n",
        "Q2\n",
        "Q3\n",
        "Q4\n",
        "\n",
        "1 1 1 1 2 2 2 3 3 3 4\n",
        "total 11nos\n",
        "if total no are odd= Q1=n+1th/4=(11+1)/4=3rd no\n",
        "                    Q3=3(n+1)th/4=3*(11+1)/4=9th no\n",
        "                    Q2=n+1th/2=(11+1)/2=6th no\n",
        "Q0   Q1    Q2    Q3    Q4\n",
        "        Median\n",
        "\n",
        "\n",
        "if total no are even= Q1 =nth/4 no\n",
        "                      Q3 =3nth/4 no\n",
        "                      Q2= [(n/2)+(n/2+1)/2]/2\n",
        "This is called Five point summary\n",
        "\n"
      ],
      "metadata": {
        "id": "5xyuU27bZ7je"
      }
    },
    {
      "cell_type": "markdown",
      "source": [
        "5.Discuss the role of random sampling in making inferences about populations.\n",
        "\n",
        "Random sampling is process of  obtaining a representative sample that reflects the characteristics of the larger population. Each member of the population has an equal chance of being selected, that is why this sampling minimizes bias.\n",
        "By studying a representative sample, we can make inferences about the entire population. This is the characteristic of statistical inference.\n",
        "It is practically impossible to study each member in a population. Random sampling makes research more feasible and efficient.\n",
        "Random Sampling Enables Inferences in following ways\n",
        "\n",
        "Sample Selection: A random sample is carefully selected using various methods (e.g., simple random sampling, stratified sampling) to ensure every member of the population has an equal chance of inclusion.\n",
        "\n",
        "Data Collection: Data is collected from the sample using appropriate methods, such as surveys, experiments, or observations.\n",
        "\n",
        "Statistical Analysis: The data from the sample is analyzed using statistical tools to identify patterns, relationships, and trends.\n",
        "\n",
        "Inference: Based on the sample data, inferences are made about the population's characteristics, such as the average ht of student in school\n",
        "\n",
        "Larger sample sizes generally lead to more accurate inferences, as they better represent the population's diversity. Even with random sampling, there's a possibility of sampling bias. This can happen if the sampling method isn't truly random or if certain groups in the population are underrepresented (eg cities may ignored in the sample collected to measure avg population of state).\n"
      ],
      "metadata": {
        "id": "FywLC3yPZ7be"
      }
    },
    {
      "cell_type": "markdown",
      "source": [
        "6. Explain the concept of skewness and its types. How does skewness affect the interpretation of data?\n",
        "-skewness is a measure of symmetry. Any data is symmetrical at both side of the axis it is called symmetrical.\n",
        "1. Symmetrical data\n",
        "2. +vely skewed data\n",
        "3. -vely skewed data\n",
        "\n",
        "Data is called symmetrical if its skewness is equal to zero\n",
        "In Positively skewed data most of the data in distribution lies on the right side of the axis.\n",
        "tail of the graph is on the right side.\n",
        "\n",
        "the quartile range at left of mode < Quartile range at right\n",
        "\n",
        "In Negatively skewed data most of the data in distribution lies on the left side of the axis.\n",
        "tail of the graph is on the left side.\n",
        "\n",
        "the quartile range at left of mode > Quartile range at right\n",
        "range of skewness  vary from -1 to 1\n",
        "\n",
        "\n"
      ],
      "metadata": {
        "id": "UXIAIwydZ7Yu"
      }
    },
    {
      "cell_type": "markdown",
      "source": [
        "7. What is the interquartile range (IQR), and how is it used to detect outliers?\n",
        "\n",
        "The IQR is a measure of statistical dispersion, representing the difference between the upper (third) quartile (Q3) and the lower (first) quartile (Q1) of a dataset. It essentially covers the middle 50% of the data.\n",
        "put numbers in order, divide numbers into 4 rqual parts-\n",
        "Q1\n",
        "Q2\n",
        "Q3\n",
        "Q4\n",
        "\n",
        "The IQR is used to establish \"fences\" or thresholds beyond which data points are considered outliers. These fences are calculated as follows:\n",
        "\n",
        "Upper Fence: Q3 + 1.5 * IQR\n",
        "Lower Fence: Q1 - 1.5 * IQR\n",
        "\n",
        "\n"
      ],
      "metadata": {
        "id": "Uav3sZY1Z7Vx"
      }
    },
    {
      "cell_type": "markdown",
      "source": [
        "8.Discuss the conditions under which the binomial distribution is used.\n",
        "-The binomial distribution is applicable when you have a series of independent trials with a fixed number of repetitions, each trial having only two possible outcomes, and the probability of success remaining constant throughout the experiment."
      ],
      "metadata": {
        "id": "mvWpVuAxZ7SS"
      }
    },
    {
      "cell_type": "markdown",
      "source": [],
      "metadata": {
        "id": "pInr0xEhEptl"
      }
    },
    {
      "cell_type": "markdown",
      "source": [],
      "metadata": {
        "id": "ylPIuboNEppx"
      }
    },
    {
      "cell_type": "markdown",
      "source": [
        "9. Explain the properties of the normal distribution and the empirical rule (68-95-99.7 rule).\n",
        "\n",
        "\n",
        "The normal distribution, also known as the Gaussian distribution, is a bell-shaped, symmetrical probability distribution that is widely used in statistics.\n",
        "\n",
        "Bell-shaped and Symmetrical: The distribution is shaped like a bell and is perfectly symmetrical around its mean. This means that the left and right halves of the curve are mirror images of each other.\n",
        "\n",
        "Mean, Median, and Mode are Equal: In a normal distribution, the mean, median, and mode are all located at the same central point of the distribution.\n",
        "\n",
        "Empirical Rule (68-95-99.7 Rule): This rule provides a quick estimate of the probability of data falling within certain ranges around the mean. Specifically:\n",
        "\n",
        "About 68% of the data falls within one standard deviation of the mean.\n",
        "About 95% of the data falls within two standard deviations of the mean.\n",
        "About 99.7% of the data falls within three standard deviations of the mean.\n",
        "   "
      ],
      "metadata": {
        "id": "30XBEtN4Z7LA"
      }
    },
    {
      "cell_type": "markdown",
      "source": [
        "10. Provide a real-life example of a Poisson process and calculate the probability for a specific event.\n",
        "\n",
        "\n"
      ],
      "metadata": {
        "id": "-eMZOIlyZ6-2"
      }
    },
    {
      "cell_type": "markdown",
      "source": [
        "11.  Explain what a random variable is and differentiate between discrete and continuous random variables.\n",
        "\n",
        "Random variables- a set of possible values from a random experiment.\n",
        "A value of random variable is unknown. there are two types of random variables\n",
        "Outcomes of an experiments\n",
        "depending on the outcome of an experiment a probability function can be (1/n)\n",
        "descrete or continuous\n",
        "\n",
        "Discrete random variable-\n",
        "Discrete outcomes have finite values\n",
        "the function which captures the probability of discreete outcome is called discrete random variable.\n",
        "represented by probability Mass function\n",
        "\n",
        "continuous random variable\n",
        "Continuous outcomes have finite values\n",
        "the function which captures the probability of continuous outcome is called continuous random variable.\n",
        "represented by probability density function\n",
        "\n",
        "A function that assigs value to each of experimental outcome\n",
        "for tossing coin\n",
        "P(H)= 1/n this is a function that can be used to get probability\n",
        "\n",
        "P(H)= 1/2 (n=2)\n",
        "P(T)= 1/2\n",
        "\n",
        "probability mass Function\n",
        "1. bernollie distribution\n",
        "2. bi nomial distribution\n",
        "3. poissons distribution\n",
        "\n",
        "probability density function\n",
        "1 normal dist./ bell shaped dist/ gossion dist\n",
        "2. standard normal dist\n",
        "3.log N distribution\n",
        "4. Chi square dist\n",
        "5. f distribution\n",
        "\n",
        "based on thest distributions we will have inferential statistics\n",
        "\n",
        "\n"
      ],
      "metadata": {
        "id": "iG6hrGQfacKS"
      }
    },
    {
      "cell_type": "markdown",
      "source": [],
      "metadata": {
        "id": "HJZ663LHacHU"
      }
    },
    {
      "cell_type": "code",
      "source": [
        "#12.Provide an example dataset, calculate both covariance and correlation, and interpret the results.\n",
        "\n",
        "x = [2,3,4,5] # hours\n",
        "y = [12,40,41,15] # score\n",
        "import numpy as np\n",
        "#print(np.var(data))\n",
        "#print(np.std(data))\n",
        "covariance = np.cov(x, y, bias=True)[0][1]\n",
        "print(f\"Covariance: {covariance}\")\n",
        "correlation = np.corrcoef(x, y)[0][1]\n",
        "print(f\"Correlation: {correlation}\")\n"
      ],
      "metadata": {
        "colab": {
          "base_uri": "https://localhost:8080/"
        },
        "id": "f7eSbQLAL86q",
        "outputId": "6abf9bed-d67f-48a4-fdb0-eaafd435b9ad"
      },
      "execution_count": 7,
      "outputs": [
        {
          "output_type": "stream",
          "name": "stdout",
          "text": [
            "Covariance: 1.25\n",
            "Correlation: 0.08253477510005973\n"
          ]
        }
      ]
    },
    {
      "cell_type": "markdown",
      "source": [],
      "metadata": {
        "id": "rb2sKHgQacCv"
      }
    }
  ]
}