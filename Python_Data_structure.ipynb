{
  "nbformat": 4,
  "nbformat_minor": 0,
  "metadata": {
    "colab": {
      "provenance": []
    },
    "kernelspec": {
      "name": "python3",
      "display_name": "Python 3"
    },
    "language_info": {
      "name": "python"
    }
  },
  "cells": [
    {
      "cell_type": "code",
      "source": [
        "#Q1 Discuss string slicing and provide example\n",
        "# String slicing allow you to extract a portion of string using the keywords\n",
        "#in string the starting index is inclusive the stop index is exclusive and step is interval between characters\n",
        "string =\"Priyanka Khairmode\"\n",
        "sub_string=string[0:3]# extract substring from index o to 3(excluding 3)\n",
        "print (sub_string)\n"
      ],
      "metadata": {
        "colab": {
          "base_uri": "https://localhost:8080/"
        },
        "id": "lgM7xXX7YBNx",
        "outputId": "04e4429f-4582-47bc-c50c-572ccb39ec26"
      },
      "execution_count": 4,
      "outputs": [
        {
          "output_type": "stream",
          "name": "stdout",
          "text": [
            "Pri\n"
          ]
        }
      ]
    },
    {
      "cell_type": "code",
      "source": [
        "string=\"data scientist\"\n",
        "sub_string=string[3:]#extract substring from index 3(inclusive)till the end\n",
        "print(sub_string)\n"
      ],
      "metadata": {
        "colab": {
          "base_uri": "https://localhost:8080/"
        },
        "id": "3173aBwUZk2w",
        "outputId": "f358f159-65b1-4d2d-ad46-5df1c9ae41ca"
      },
      "execution_count": 6,
      "outputs": [
        {
          "output_type": "stream",
          "name": "stdout",
          "text": [
            "a scientist\n"
          ]
        }
      ]
    },
    {
      "cell_type": "code",
      "source": [
        "string =\"Priyanka Khairmode\"\n",
        "sub_string=string[-3:]#extract last 3 characters from index -3 till end\n",
        "print(sub_string)"
      ],
      "metadata": {
        "colab": {
          "base_uri": "https://localhost:8080/"
        },
        "id": "oiFg-JzObrn4",
        "outputId": "d2e76a9d-9025-463f-ed13-b4195a8e3db8"
      },
      "execution_count": 8,
      "outputs": [
        {
          "output_type": "stream",
          "name": "stdout",
          "text": [
            "ode\n"
          ]
        }
      ]
    },
    {
      "cell_type": "code",
      "source": [
        "string=\"data scientist\"\n",
        "sub_string=string[0:14:2]#extract every 2nd character from index 0:14, space is ignored in string\n",
        "print(sub_string)"
      ],
      "metadata": {
        "colab": {
          "base_uri": "https://localhost:8080/"
        },
        "id": "wlUAkc7FcOx4",
        "outputId": "7178b65e-631a-461d-b69f-e53c62c40d37"
      },
      "execution_count": 9,
      "outputs": [
        {
          "output_type": "stream",
          "name": "stdout",
          "text": [
            "dt cets\n"
          ]
        }
      ]
    },
    {
      "cell_type": "code",
      "source": [
        "string=\"data scientist\"\n",
        "reverse_string=string[::-1]\n",
        "print(reverse_string)"
      ],
      "metadata": {
        "colab": {
          "base_uri": "https://localhost:8080/"
        },
        "id": "CjXC7VWqc19o",
        "outputId": "be4c555f-1af5-4f11-b32e-88a0650a1586"
      },
      "execution_count": 11,
      "outputs": [
        {
          "output_type": "stream",
          "name": "stdout",
          "text": [
            "tsitneics atad\n"
          ]
        }
      ]
    },
    {
      "cell_type": "code",
      "source": [
        "#Q2 Explain the key features of lists in Python\n",
        "#list are versatile and widely used data structures that allow to store an ordered collection of items\n",
        "# list maintain the order of element as they are added. each element has a specific index, starrting from 0 which allow you to access the element in the order\n",
        "#list can hold variety of data types and have several key features that make them uasful for many programing tasks\n",
        "#list maintain the order of items as the added\n",
        "# lists are mutable\n",
        "# python list are indexed from 0 , the first element is accessed using index 0 and so on\n"
      ],
      "metadata": {
        "colab": {
          "base_uri": "https://localhost:8080/"
        },
        "id": "Zy2KdPHZeGA_",
        "outputId": "a788756c-f3a2-447d-cfca-a36bd8cebf1f"
      },
      "execution_count": 17,
      "outputs": [
        {
          "output_type": "stream",
          "name": "stdout",
          "text": [
            "1\n"
          ]
        }
      ]
    },
    {
      "cell_type": "code",
      "source": [
        "#Q3 Describe how to access, modify, and delete elements in a list with examples\n",
        "#access element in list\n",
        "list=[1,2,3,4,5]\n",
        "print(list[0])\n",
        "\n",
        "\n",
        "\n",
        "#modify element in list\n",
        "list=[1,2,3,4,5]\n",
        "list[1]=10\n",
        "print(list)\n"
      ],
      "metadata": {
        "colab": {
          "base_uri": "https://localhost:8080/"
        },
        "id": "SSSujjMwm3T1",
        "outputId": "2f41cf35-da67-44dd-cd34-ed8d282e2e16"
      },
      "execution_count": 22,
      "outputs": [
        {
          "output_type": "stream",
          "name": "stdout",
          "text": [
            "1\n",
            "[1, 10, 3, 4, 5]\n"
          ]
        }
      ]
    },
    {
      "cell_type": "code",
      "source": [],
      "metadata": {
        "id": "Sjw6oIWnnKe8"
      },
      "execution_count": null,
      "outputs": []
    },
    {
      "cell_type": "code",
      "source": [
        "#delete element in list\n",
        "list=[1,2,3,4,5]\n",
        "del(list[0])\n",
        "print(list)\n",
        "\n",
        "\n",
        "\n",
        "\n"
      ],
      "metadata": {
        "colab": {
          "base_uri": "https://localhost:8080/"
        },
        "id": "etS5WvAciUsX",
        "outputId": "fed532f2-c082-4ebb-8ede-24419deb5e44"
      },
      "execution_count": 21,
      "outputs": [
        {
          "output_type": "stream",
          "name": "stdout",
          "text": [
            "[2, 3, 4, 5]\n"
          ]
        }
      ]
    },
    {
      "cell_type": "code",
      "source": [
        "#Q4 Compare and contrast tuples and lists with examples\n",
        "# List are mutable, Tuples are immutable\n",
        "#list(mutable)\n",
        "list=[1,2,3,4,5]\n",
        "list[1]=3\n",
        "print(list)\n",
        "\n"
      ],
      "metadata": {
        "colab": {
          "base_uri": "https://localhost:8080/"
        },
        "id": "RKkdIFU-8kBp",
        "outputId": "81efe066-4527-4a82-c6f5-7a13a6fc0640"
      },
      "execution_count": 25,
      "outputs": [
        {
          "output_type": "stream",
          "name": "stdout",
          "text": [
            "[1, 3, 3, 4, 5]\n"
          ]
        }
      ]
    },
    {
      "cell_type": "code",
      "source": [
        "#tuple(immutable)\n",
        "tuple=(1,2,3,4,5)\n",
        "tuple[1]=3\n",
        "print(tuple)"
      ],
      "metadata": {
        "colab": {
          "base_uri": "https://localhost:8080/",
          "height": 193
        },
        "id": "jXs5cZETEo0H",
        "outputId": "c0f662a1-fad1-490a-aa1a-c5b2a1ccbf08"
      },
      "execution_count": 26,
      "outputs": [
        {
          "output_type": "error",
          "ename": "TypeError",
          "evalue": "'tuple' object does not support item assignment",
          "traceback": [
            "\u001b[0;31m---------------------------------------------------------------------------\u001b[0m",
            "\u001b[0;31mTypeError\u001b[0m                                 Traceback (most recent call last)",
            "\u001b[0;32m<ipython-input-26-c986c3671ef2>\u001b[0m in \u001b[0;36m<cell line: 3>\u001b[0;34m()\u001b[0m\n\u001b[1;32m      1\u001b[0m \u001b[0;31m#tuple(immutable)\u001b[0m\u001b[0;34m\u001b[0m\u001b[0;34m\u001b[0m\u001b[0m\n\u001b[1;32m      2\u001b[0m \u001b[0mtuple\u001b[0m\u001b[0;34m=\u001b[0m\u001b[0;34m(\u001b[0m\u001b[0;36m1\u001b[0m\u001b[0;34m,\u001b[0m\u001b[0;36m2\u001b[0m\u001b[0;34m,\u001b[0m\u001b[0;36m3\u001b[0m\u001b[0;34m,\u001b[0m\u001b[0;36m4\u001b[0m\u001b[0;34m,\u001b[0m\u001b[0;36m5\u001b[0m\u001b[0;34m)\u001b[0m\u001b[0;34m\u001b[0m\u001b[0;34m\u001b[0m\u001b[0m\n\u001b[0;32m----> 3\u001b[0;31m \u001b[0mtuple\u001b[0m\u001b[0;34m[\u001b[0m\u001b[0;36m1\u001b[0m\u001b[0;34m]\u001b[0m\u001b[0;34m=\u001b[0m\u001b[0;36m3\u001b[0m\u001b[0;34m\u001b[0m\u001b[0;34m\u001b[0m\u001b[0m\n\u001b[0m\u001b[1;32m      4\u001b[0m \u001b[0mprint\u001b[0m\u001b[0;34m(\u001b[0m\u001b[0mtuple\u001b[0m\u001b[0;34m)\u001b[0m\u001b[0;34m\u001b[0m\u001b[0;34m\u001b[0m\u001b[0m\n",
            "\u001b[0;31mTypeError\u001b[0m: 'tuple' object does not support item assignment"
          ]
        }
      ]
    },
    {
      "cell_type": "code",
      "source": [
        "#Syntax= List represented by [] tuple representted by()\n",
        "#lists are used when you need to modify, append or delete element, tuple are used when you need a immutable sequence of items\n",
        "\n",
        "\n",
        "#Q5 Describe the key features of sets and provide examples of their use\n",
        "#sets are unordered. the element do not maintain any specific order, when you iterate over a set the element may appear in ant random order\n",
        "set={1,2,3,4,5}\n",
        "item_in_set=print(set)\n",
        "print(set)"
      ],
      "metadata": {
        "colab": {
          "base_uri": "https://localhost:8080/"
        },
        "id": "QInoQtTMFB03",
        "outputId": "8f7e1243-1328-42b6-b538-0f4cb2d7a8c0"
      },
      "execution_count": 29,
      "outputs": [
        {
          "output_type": "stream",
          "name": "stdout",
          "text": [
            "{1, 2, 3, 4, 5}\n",
            "{1, 2, 3, 4, 5}\n"
          ]
        }
      ]
    },
    {
      "cell_type": "code",
      "source": [
        "# set store unique element, if you try to duplicate the lement of the set the are ignored ensuring that no two element in a set are the same\n",
        "#though sets are immutable you can add and remove element of the set\n",
        "\n",
        "\n",
        "#Q6Discuss the use cases of tuples and sets in Python programming\n",
        "coordinates=(30,-50)# tuples are used when u want totstore data that should not change after it has been assigned\n",
        "def get_info():return(\"Priyanka\",\"40\",\"engineer\")\n",
        "name,age,profession=get_info()\n",
        "#since tuples are immutable and hashablethey can be used as keys in dictionaries unlike list which are mutable and can not be used as dictionary keys\n",
        "#since tuples are immutable they are generally more memory efficient and faster to process than list\n",
        "#large_tuple=(1,3,5,7,9)*1000\n",
        "# sets are highly suited for mathematical operations like union, intersection, difference, these operation allow easy comparison and manupulation of multiple sets\n",
        "set_1={1,2,3,4,5}\n",
        "set_2={10,1,2,3,30,40,50}\n",
        "union_set= set_1.union(set_2)\n",
        "print(union_set)\n"
      ],
      "metadata": {
        "colab": {
          "base_uri": "https://localhost:8080/"
        },
        "id": "xu60hvUxGV9P",
        "outputId": "4306767a-0ed3-40db-c754-49051551c540"
      },
      "execution_count": 35,
      "outputs": [
        {
          "output_type": "stream",
          "name": "stdout",
          "text": [
            "{1, 2, 3, 4, 5, 40, 10, 50, 30}\n"
          ]
        }
      ]
    },
    {
      "cell_type": "code",
      "source": [
        "#Q7Describe how to add, modify, and delete items in a dictionary with example\n",
        "#dictionaries are unordered collection of key VALUE PAIRS  where keys are unique and values can be of any type\n",
        "\n"
      ],
      "metadata": {
        "id": "gQXwXhAYI0uW"
      },
      "execution_count": null,
      "outputs": []
    },
    {
      "cell_type": "code",
      "source": [],
      "metadata": {
        "id": "koegRlOZNXb1"
      },
      "execution_count": null,
      "outputs": []
    }
  ]
}